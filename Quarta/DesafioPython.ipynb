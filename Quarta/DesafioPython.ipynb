{
  "nbformat": 4,
  "nbformat_minor": 0,
  "metadata": {
    "colab": {
      "provenance": []
    },
    "kernelspec": {
      "name": "python3",
      "display_name": "Python 3"
    },
    "language_info": {
      "name": "python"
    }
  },
  "cells": [
    {
      "cell_type": "markdown",
      "source": [
        "# Importando bibliotecas e o arquivo de dado csv"
      ],
      "metadata": {
        "id": "JujJytZIYWbD"
      }
    },
    {
      "cell_type": "code",
      "execution_count": 1,
      "metadata": {
        "id": "XMTU1cuNYIqB"
      },
      "outputs": [],
      "source": [
        "import pandas as pd\n",
        "import matplotlib as plt\n",
        "\n",
        "df = pd.read_csv(\"/content/dados.csv\")"
      ]
    },
    {
      "cell_type": "markdown",
      "source": [
        "# Questão 1: Calculando os valores mínimos, máximos e médios de pontuação de cada matéria."
      ],
      "metadata": {
        "id": "V8HIF010YgVt"
      }
    },
    {
      "cell_type": "code",
      "source": [
        "minimos = df[['math score', 'reading score', 'writing score']].min()\n",
        "maximos = df[['math score', 'reading score', 'writing score']].max()\n",
        "medias = df[['math score', 'reading score', 'writing score']].mean()\n",
        "\n",
        "# minimos\n",
        "print(f\" Valores Mínimos de Pontuação\")\n",
        "print(f\"- Matemática: {minimos['math score']}\")\n",
        "print(f\"- Leitura: {minimos['reading score']}\")\n",
        "print(f\"- Escrita: {minimos['writing score']}\")\n",
        "\n",
        "# maximos\n",
        "print(f\"\\n Valores Máximos de Pontuação\")\n",
        "print(f\"- Matemática: {maximos['math score']}\")\n",
        "print(f\"- Leitura: {maximos['reading score']}\")\n",
        "print(f\"- Escrita: {maximos['writing score']}\")\n",
        "\n",
        "# medias\n",
        "print(f\"\\n Valores Médios de Pontuação\")\n",
        "print(f\"- Matemática: {medias['math score']:.2f}\")\n",
        "print(f\"- Leitura: {medias['reading score']:.2f}\")\n",
        "print(f\"- Escrita: {medias['writing score']:.2f}\")\n"
      ],
      "metadata": {
        "colab": {
          "base_uri": "https://localhost:8080/"
        },
        "id": "nW9K59ZlYjQp",
        "outputId": "ac3e13bd-842d-4853-ac3b-384bffd80656"
      },
      "execution_count": 2,
      "outputs": [
        {
          "output_type": "stream",
          "name": "stdout",
          "text": [
            " Valores Mínimos de Pontuação\n",
            "- Matemática: 0\n",
            "- Leitura: 17\n",
            "- Escrita: 10\n",
            "\n",
            " Valores Máximos de Pontuação\n",
            "- Matemática: 100\n",
            "- Leitura: 100\n",
            "- Escrita: 100\n",
            "\n",
            " Valores Médios de Pontuação\n",
            "- Matemática: 66.09\n",
            "- Leitura: 69.17\n",
            "- Escrita: 68.05\n"
          ]
        }
      ]
    },
    {
      "cell_type": "markdown",
      "source": [
        "Os resultados indicam um desempenho variado dos estudantes, com dificuldades mais evidentes em matemática"
      ],
      "metadata": {
        "id": "HYKi_EZ8YrHz"
      }
    },
    {
      "cell_type": "markdown",
      "source": [
        "# Questão 2: Gráfico com a nota média de Matemática a partir de raça/etnia dos alunos"
      ],
      "metadata": {
        "id": "uFXJIzETZLah"
      }
    },
    {
      "cell_type": "code",
      "source": [
        "df3 = round(df.groupby('parental level of education')['writing score'].mean(),0)\n",
        "df3"
      ],
      "metadata": {
        "colab": {
          "base_uri": "https://localhost:8080/",
          "height": 303
        },
        "id": "5PnNMsFHYst4",
        "outputId": "9f3949b6-b68a-462f-aee3-c6ba62d40e60"
      },
      "execution_count": 3,
      "outputs": [
        {
          "output_type": "execute_result",
          "data": {
            "text/plain": [
              "parental level of education\n",
              "associate's degree    70.0\n",
              "bachelor's degree     73.0\n",
              "high school           62.0\n",
              "master's degree       76.0\n",
              "some college          69.0\n",
              "some high school      65.0\n",
              "Name: writing score, dtype: float64"
            ],
            "text/html": [
              "<div>\n",
              "<style scoped>\n",
              "    .dataframe tbody tr th:only-of-type {\n",
              "        vertical-align: middle;\n",
              "    }\n",
              "\n",
              "    .dataframe tbody tr th {\n",
              "        vertical-align: top;\n",
              "    }\n",
              "\n",
              "    .dataframe thead th {\n",
              "        text-align: right;\n",
              "    }\n",
              "</style>\n",
              "<table border=\"1\" class=\"dataframe\">\n",
              "  <thead>\n",
              "    <tr style=\"text-align: right;\">\n",
              "      <th></th>\n",
              "      <th>writing score</th>\n",
              "    </tr>\n",
              "    <tr>\n",
              "      <th>parental level of education</th>\n",
              "      <th></th>\n",
              "    </tr>\n",
              "  </thead>\n",
              "  <tbody>\n",
              "    <tr>\n",
              "      <th>associate's degree</th>\n",
              "      <td>70.0</td>\n",
              "    </tr>\n",
              "    <tr>\n",
              "      <th>bachelor's degree</th>\n",
              "      <td>73.0</td>\n",
              "    </tr>\n",
              "    <tr>\n",
              "      <th>high school</th>\n",
              "      <td>62.0</td>\n",
              "    </tr>\n",
              "    <tr>\n",
              "      <th>master's degree</th>\n",
              "      <td>76.0</td>\n",
              "    </tr>\n",
              "    <tr>\n",
              "      <th>some college</th>\n",
              "      <td>69.0</td>\n",
              "    </tr>\n",
              "    <tr>\n",
              "      <th>some high school</th>\n",
              "      <td>65.0</td>\n",
              "    </tr>\n",
              "  </tbody>\n",
              "</table>\n",
              "</div><br><label><b>dtype:</b> float64</label>"
            ]
          },
          "metadata": {},
          "execution_count": 3
        }
      ]
    },
    {
      "cell_type": "code",
      "source": [
        "\n",
        "dfetnia = df.groupby('race/ethnicity')[['math score']].mean()\n",
        "\n",
        "dfetnia.plot(kind = 'bar')"
      ],
      "metadata": {
        "colab": {
          "base_uri": "https://localhost:8080/",
          "height": 508
        },
        "id": "3BDrh-NfZDrL",
        "outputId": "316bbcfd-4a03-487c-f364-abb79e1ac025"
      },
      "execution_count": 5,
      "outputs": [
        {
          "output_type": "execute_result",
          "data": {
            "text/plain": [
              "<Axes: xlabel='race/ethnicity'>"
            ]
          },
          "metadata": {},
          "execution_count": 5
        },
        {
          "output_type": "display_data",
          "data": {
            "text/plain": [
              "<Figure size 640x480 with 1 Axes>"
            ],
            "image/png": "[encoded data removed]"
          },
          "metadata": {}
        }
      ]
    },
    {
      "cell_type": "markdown",
      "source": [
        "As notas de matemática variam entre os diferentes grupos, com o grupo E apresentando a maior média. O nível de escolaridade dos pais tenha um impacto no desempenho acadêmico dos alunos, como sugerem os dados fornecidos."
      ],
      "metadata": {
        "id": "ooRQ62fbfweD"
      }
    },
    {
      "cell_type": "markdown",
      "source": [
        "# Questão 3: Gráfico com a nota média em Escrita a partir da escolaridade dos pais"
      ],
      "metadata": {
        "id": "lW1QdURiaPmL"
      }
    },
    {
      "cell_type": "code",
      "source": [
        "df_write = df.groupby('parental level of education')['writing score'].mean()\n",
        "round(df_write, 2)"
      ],
      "metadata": {
        "colab": {
          "base_uri": "https://localhost:8080/",
          "height": 303
        },
        "id": "jqL1gDS3ahkT",
        "outputId": "2e98cd53-83f6-49e6-e231-006b3f611700"
      },
      "execution_count": 7,
      "outputs": [
        {
          "output_type": "execute_result",
          "data": {
            "text/plain": [
              "parental level of education\n",
              "associate's degree    69.90\n",
              "bachelor's degree     73.38\n",
              "high school           62.45\n",
              "master's degree       75.68\n",
              "some college          68.84\n",
              "some high school      64.89\n",
              "Name: writing score, dtype: float64"
            ],
            "text/html": [
              "<div>\n",
              "<style scoped>\n",
              "    .dataframe tbody tr th:only-of-type {\n",
              "        vertical-align: middle;\n",
              "    }\n",
              "\n",
              "    .dataframe tbody tr th {\n",
              "        vertical-align: top;\n",
              "    }\n",
              "\n",
              "    .dataframe thead th {\n",
              "        text-align: right;\n",
              "    }\n",
              "</style>\n",
              "<table border=\"1\" class=\"dataframe\">\n",
              "  <thead>\n",
              "    <tr style=\"text-align: right;\">\n",
              "      <th></th>\n",
              "      <th>writing score</th>\n",
              "    </tr>\n",
              "    <tr>\n",
              "      <th>parental level of education</th>\n",
              "      <th></th>\n",
              "    </tr>\n",
              "  </thead>\n",
              "  <tbody>\n",
              "    <tr>\n",
              "      <th>associate's degree</th>\n",
              "      <td>69.90</td>\n",
              "    </tr>\n",
              "    <tr>\n",
              "      <th>bachelor's degree</th>\n",
              "      <td>73.38</td>\n",
              "    </tr>\n",
              "    <tr>\n",
              "      <th>high school</th>\n",
              "      <td>62.45</td>\n",
              "    </tr>\n",
              "    <tr>\n",
              "      <th>master's degree</th>\n",
              "      <td>75.68</td>\n",
              "    </tr>\n",
              "    <tr>\n",
              "      <th>some college</th>\n",
              "      <td>68.84</td>\n",
              "    </tr>\n",
              "    <tr>\n",
              "      <th>some high school</th>\n",
              "      <td>64.89</td>\n",
              "    </tr>\n",
              "  </tbody>\n",
              "</table>\n",
              "</div><br><label><b>dtype:</b> float64</label>"
            ]
          },
          "metadata": {},
          "execution_count": 7
        }
      ]
    },
    {
      "cell_type": "code",
      "source": [
        "df3.plot(kind = 'bar', color = 'red', title = 'Média da nota de Escrita baseado na Escolaridade Parental')\n"
      ],
      "metadata": {
        "colab": {
          "base_uri": "https://localhost:8080/",
          "height": 604
        },
        "id": "sgDmaM0XZwCI",
        "outputId": "940c5925-8caf-4b52-d12f-19dbd1838956"
      },
      "execution_count": 6,
      "outputs": [
        {
          "output_type": "execute_result",
          "data": {
            "text/plain": [
              "<Axes: title={'center': 'Média da nota de Escrita baseado na Escolaridade Parental'}, xlabel='parental level of education'>"
            ]
          },
          "metadata": {},
          "execution_count": 6
        },
        {
          "output_type": "display_data",
          "data": {
            "text/plain": [
              "<Figure size 640x480 with 1 Axes>"
            ],
            "image/png": "[encoded data removed]"
          },
          "metadata": {}
        }
      ]
    },
    {
      "cell_type": "markdown",
      "source": [
        "os alunos cujos pais possuem mestrado apresentam a maior média de nota.A diferença entre a maior e a menor média é de 13.23 pontos, indicando uma influência considerável do nível de escolaridade dos pais no desempenho em escrita."
      ],
      "metadata": {
        "id": "fy_JdnxAgnFr"
      }
    },
    {
      "cell_type": "markdown",
      "source": [
        "# Questão 4: Gráfico com a nota média em Leitura referente à participação em um curso preparatório para os testes\n",
        "\n"
      ],
      "metadata": {
        "id": "PNXyqYyybHUb"
      }
    },
    {
      "cell_type": "code",
      "source": [
        "df_read = df.groupby('test preparation course')['reading score'].mean()\n",
        "round(df_read, 2)"
      ],
      "metadata": {
        "colab": {
          "base_uri": "https://localhost:8080/",
          "height": 178
        },
        "id": "K_zz_0F7bXk3",
        "outputId": "ebae7262-ef56-45f7-e5a5-a37d2f252c05"
      },
      "execution_count": 8,
      "outputs": [
        {
          "output_type": "execute_result",
          "data": {
            "text/plain": [
              "test preparation course\n",
              "completed    73.89\n",
              "none         66.53\n",
              "Name: reading score, dtype: float64"
            ],
            "text/html": [
              "<div>\n",
              "<style scoped>\n",
              "    .dataframe tbody tr th:only-of-type {\n",
              "        vertical-align: middle;\n",
              "    }\n",
              "\n",
              "    .dataframe tbody tr th {\n",
              "        vertical-align: top;\n",
              "    }\n",
              "\n",
              "    .dataframe thead th {\n",
              "        text-align: right;\n",
              "    }\n",
              "</style>\n",
              "<table border=\"1\" class=\"dataframe\">\n",
              "  <thead>\n",
              "    <tr style=\"text-align: right;\">\n",
              "      <th></th>\n",
              "      <th>reading score</th>\n",
              "    </tr>\n",
              "    <tr>\n",
              "      <th>test preparation course</th>\n",
              "      <th></th>\n",
              "    </tr>\n",
              "  </thead>\n",
              "  <tbody>\n",
              "    <tr>\n",
              "      <th>completed</th>\n",
              "      <td>73.89</td>\n",
              "    </tr>\n",
              "    <tr>\n",
              "      <th>none</th>\n",
              "      <td>66.53</td>\n",
              "    </tr>\n",
              "  </tbody>\n",
              "</table>\n",
              "</div><br><label><b>dtype:</b> float64</label>"
            ]
          },
          "metadata": {},
          "execution_count": 8
        }
      ]
    },
    {
      "cell_type": "code",
      "source": [
        "df_read.plot(kind = 'barh', color = 'orange', title = 'Pontuação Média em Leitura por Participação em Curso Preparatório')"
      ],
      "metadata": {
        "colab": {
          "base_uri": "https://localhost:8080/",
          "height": 470
        },
        "id": "rHKGtdUwc4pL",
        "outputId": "1ce20361-f705-4342-a0c8-2c959b2875bc"
      },
      "execution_count": 10,
      "outputs": [
        {
          "output_type": "execute_result",
          "data": {
            "text/plain": [
              "<Axes: title={'center': 'Pontuação Média em Leitura por Participação em Curso Preparatório'}, ylabel='test preparation course'>"
            ]
          },
          "metadata": {},
          "execution_count": 10
        },
        {
          "output_type": "display_data",
          "data": {
            "text/plain": [
              "<Figure size 640x480 with 1 Axes>"
            ],
            "image/png": "[encoded data removed]"
          },
          "metadata": {}
        }
      ]
    },
    {
      "cell_type": "markdown",
      "source": [
        "É possível demonstrar que as pessoas que frequentaram um Curso Preparatório obtiveram notas superiores àquelas que não participaram"
      ],
      "metadata": {
        "id": "0dNpU8HQg8M9"
      }
    }
  ]
}